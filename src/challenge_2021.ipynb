{
 "cells": [
  {
   "cell_type": "markdown",
   "metadata": {
    "pycharm": {
     "name": "#%%\n"
    }
   },
   "source": [
    "# Assessment"
   ]
  },
  {
   "cell_type": "code",
   "execution_count": null,
   "metadata": {},
   "outputs": [],
   "source": []
  },
  {
   "cell_type": "code",
   "execution_count": null,
   "metadata": {},
   "outputs": [],
   "source": [
    "import pandas as pd\n",
    "import numpy as np\n",
    "from matplotlib import pyplot as plt\n",
    "import pathlib"
   ]
  },
  {
   "cell_type": "code",
   "execution_count": 15,
   "metadata": {
    "pycharm": {
     "name": "#%%\n"
    }
   },
   "outputs": [],
   "source": [
    "# after we download and have the .csv in the directory, we read as follows::\n",
    "path_of_data = pathlib.Path.cwd() / 'challenge_data.csv'\n",
    "data = pd.read_csv(path_of_data)"
   ]
  },
  {
   "cell_type": "markdown",
   "metadata": {},
   "source": [
    "## Part I – SQL/Data Handling"
   ]
  },
  {
   "cell_type": "code",
   "execution_count": 16,
   "metadata": {
    "pycharm": {
     "name": "#%%\n"
    }
   },
   "outputs": [],
   "source": [
    "# we focus on cities that have at least 500 orders\n",
    "total_orders_per_city = data.groupby('city').size()\n",
    "subset = total_orders_per_city[total_orders_per_city >= 500]\n",
    "cities_500 = list(subset.index)"
   ]
  },
  {
   "cell_type": "code",
   "execution_count": 17,
   "metadata": {
    "pycharm": {
     "name": "#%%\n"
    }
   },
   "outputs": [
    {
     "name": "stdout",
     "output_type": "stream",
     "text": [
      "The cities with the most orders in the Breakfast category in a descending order are:\n",
      "['Ηράκλειο Κρήτη', 'Πάτρα', 'Βόλος', 'Λάρισα', 'Καλαμάτα', 'Ξάνθη', 'Ιωάννινα', 'Χαλκίδα', 'Ρόδος', 'Αλεξανδρούπολη']\n"
     ]
    }
   ],
   "source": [
    "# we select orders having the breakfast category and being in a major city\n",
    "cond = (data['cuisine_parent'] == 'Breakfast') & (data['city'].isin(cities_500))\n",
    "# we group-by per city, count orders, sort by value in a descending order and select the top-10 cities\n",
    "cities_order_stats = list(data.loc[cond].groupby('city').size().sort_values(ascending=False).index[:10])\n",
    "\n",
    "print('The cities with the most orders in the Breakfast category in a descending order are:')\n",
    "print(cities_order_stats)"
   ]
  },
  {
   "cell_type": "code",
   "execution_count": 18,
   "metadata": {
    "pycharm": {
     "name": "#%%\n"
    }
   },
   "outputs": [
    {
     "name": "stdout",
     "output_type": "stream",
     "text": [
      "The cities with the most users in the Breakfast category in a descending order are:\n",
      "['Ηράκλειο Κρήτη', 'Πάτρα', 'Βόλος', 'Λάρισα', 'Καλαμάτα', 'Ξάνθη', 'Ιωάννινα', 'Χανιά Κρήτη', 'Ρόδος', 'Χαλκίδα']\n"
     ]
    }
   ],
   "source": [
    "breakfast_users_stats = list(data.loc[cond, ['user_id', 'city']].drop_duplicates(subset=['user_id', 'city'])\n",
    "                             .groupby(['city']).size().sort_values(ascending=False).index[:10])\n",
    "print('The cities with the most users in the Breakfast category in a descending order are:')\n",
    "print(breakfast_users_stats)"
   ]
  },
  {
   "cell_type": "code",
   "execution_count": 19,
   "metadata": {
    "pycharm": {
     "name": "#%%\n"
    }
   },
   "outputs": [],
   "source": [
    "breakfast_user_ids = list(set(data.loc[cond, ['user_id', 'city']]\n",
    "                              .drop_duplicates(subset=['user_id', 'city'])\n",
    "                              .loc[:, 'user_id']))"
   ]
  },
  {
   "cell_type": "code",
   "execution_count": 20,
   "metadata": {
    "pycharm": {
     "name": "#%%\n"
    }
   },
   "outputs": [],
   "source": [
    "# calculating average basket value per user\n",
    "average_basket = data.loc[cond & (data['user_id'].isin(breakfast_user_ids))]\\\n",
    "        .groupby('city')\\\n",
    "        .agg({'basket': 'mean'})"
   ]
  },
  {
   "cell_type": "code",
   "execution_count": 21,
   "metadata": {
    "pycharm": {
     "name": "#%%\n"
    }
   },
   "outputs": [
    {
     "name": "stdout",
     "output_type": "stream",
     "text": [
      "top-10 average basket cities are:\n",
      "['Κατερίνη', 'Κέρκυρα', 'Γρεβενά', 'Χανιά Κρήτη', 'Θήβα', 'Ιεράπετρα Κρήτη', 'Χαλκίδα', 'Κιλκίς', 'Λάρισα', 'Ρόδος']\n"
     ]
    }
   ],
   "source": [
    "# calculating top-10 basket_values\n",
    "top_10_avg_basket_cities = list(average_basket.sort_values(by='basket', ascending=False).index[:10])\n",
    "print('top-10 average basket cities are:')\n",
    "print(top_10_avg_basket_cities)"
   ]
  },
  {
   "cell_type": "markdown",
   "metadata": {
    "pycharm": {
     "name": "#%% md\n"
    }
   },
   "source": [
    "##  Part II - User segmentation"
   ]
  },
  {
   "cell_type": "code",
   "execution_count": 22,
   "metadata": {},
   "outputs": [],
   "source": [
    "# checking to see that all timestamps are in UTC timezone\n",
    "utc_flag = data.loc[:, 'submit_dt'].apply(lambda x: 'UTC' not in x).any()\n",
    "assert not utc_flag"
   ]
  },
  {
   "cell_type": "code",
   "execution_count": 23,
   "metadata": {},
   "outputs": [],
   "source": [
    "# converting string to datetime\n",
    "data['submit_dt'] = pd.to_datetime(data['submit_dt'])\n",
    "\n",
    "# for each user we calculate the mean difference in days between consecutive orders\n",
    "# a user with just one order does not have a proper value for this metric\n",
    "group = data.groupby('user_id')\n",
    "user_avg_frequency = group.apply(lambda x: x.sort_values(by='submit_dt', ascending=True)['submit_dt']\n",
    "                                 .diff().mean())"
   ]
  },
  {
   "cell_type": "code",
   "execution_count": 24,
   "metadata": {},
   "outputs": [],
   "source": [
    "user_avg_frequency = user_avg_frequency.apply(lambda d: d.days)\n",
    "# for the not timestamp values we set the max value + 10\n",
    "user_avg_frequency = user_avg_frequency.fillna(np.max(user_avg_frequency) + 10)\n",
    "\n",
    "# first list of user_ids\n",
    "# calculating the users with a average frequency of less or equal than 5 days\n",
    "user_segmentation_freq1 = list(user_avg_frequency[user_avg_frequency <= 5].index)"
   ]
  },
  {
   "cell_type": "code",
   "execution_count": 25,
   "metadata": {},
   "outputs": [
    {
     "data": {
      "text/plain": [
       "Text(0.5, 1.0, '')"
      ]
     },
     "execution_count": 25,
     "metadata": {},
     "output_type": "execute_result"
    },
    {
     "data": {
      "image/png": "[encoded data removed]",
      "text/plain": [
       "<Figure size 432x288 with 1 Axes>"
      ]
     },
     "metadata": {
      "needs_background": "light"
     },
     "output_type": "display_data"
    }
   ],
   "source": [
    "# %matplotlib qt\n",
    "# plotting a histogram so we can inspect the data and understand its distribution\n",
    "user_avg_frequency.hist()\n",
    "plt.title('')"
   ]
  },
  {
   "cell_type": "code",
   "execution_count": 26,
   "metadata": {},
   "outputs": [],
   "source": [
    "# frequency second metric: count orders by user\n",
    "# counting how many orders per user we have\n",
    "user_count_orders = data.groupby('user_id').agg({'order_id': 'count'})"
   ]
  },
  {
   "cell_type": "code",
   "execution_count": 27,
   "metadata": {},
   "outputs": [
    {
     "data": {
      "text/plain": [
       "Text(0.5, 1.0, '')"
      ]
     },
     "execution_count": 27,
     "metadata": {},
     "output_type": "execute_result"
    },
    {
     "data": {
      "image/png": "[encoded data removed]",
      "text/plain": [
       "<Figure size 432x288 with 1 Axes>"
      ]
     },
     "metadata": {
      "needs_background": "light"
     },
     "output_type": "display_data"
    }
   ],
   "source": [
    "user_count_orders.hist()\n",
    "plt.title('')"
   ]
  },
  {
   "cell_type": "code",
   "execution_count": 28,
   "metadata": {},
   "outputs": [],
   "source": [
    "# second list of user ids\n",
    "user_segmentation_freq2 = list(user_count_orders[user_count_orders['order_id'] >= 5].index)"
   ]
  },
  {
   "cell_type": "code",
   "execution_count": 29,
   "metadata": {},
   "outputs": [],
   "source": [
    "# average basket\n",
    "avg_basket = data.groupby('user_id').agg({'basket': 'mean'})\n",
    "# selecting users with an average basket value of 7 euros or lower\n",
    "user_segmentation_basket = list(avg_basket[avg_basket['basket'] <= 7].index)"
   ]
  },
  {
   "cell_type": "code",
   "execution_count": 30,
   "metadata": {},
   "outputs": [
    {
     "data": {
      "text/plain": [
       "Text(0.5, 1.0, '')"
      ]
     },
     "execution_count": 30,
     "metadata": {},
     "output_type": "execute_result"
    },
    {
     "data": {
      "image/png": "[encoded data removed]",
      "text/plain": [
       "<Figure size 432x288 with 1 Axes>"
      ]
     },
     "metadata": {
      "needs_background": "light"
     },
     "output_type": "display_data"
    }
   ],
   "source": [
    "# plotting\n",
    "avg_basket.hist(bins=range(0, int(max(avg_basket.values)[0]), 2))\n",
    "plt.title('')"
   ]
  },
  {
   "cell_type": "code",
   "execution_count": 31,
   "metadata": {},
   "outputs": [],
   "source": [
    "# this is an additional metric to measure users that have placed breakfast orders\n",
    "breakfast_data = data.loc[data['cuisine_parent'] == 'Breakfast', :]\n",
    "breakfast_stats = breakfast_data.groupby('user_id').agg({'order_id': 'count'})\n",
    "# selecting users with low (6) number of breakfast orders\n",
    "less_frequent_breakfast_users = list(breakfast_stats[breakfast_stats['order_id'] <= 6].index)"
   ]
  },
  {
   "cell_type": "code",
   "execution_count": 38,
   "metadata": {},
   "outputs": [
    {
     "data": {
      "text/plain": [
       "Text(0.5, 1.0, '')"
      ]
     },
     "execution_count": 38,
     "metadata": {},
     "output_type": "execute_result"
    },
    {
     "data": {
      "image/png": "[encoded data removed]",
      "text/plain": [
       "<Figure size 432x288 with 1 Axes>"
      ]
     },
     "metadata": {
      "needs_background": "light"
     },
     "output_type": "display_data"
    }
   ],
   "source": [
    "# plotting\n",
    "breakfast_stats.hist()\n",
    "plt.title('')"
   ]
  },
  {
   "cell_type": "code",
   "execution_count": 39,
   "metadata": {},
   "outputs": [],
   "source": [
    "# users with at least one breakfast order\n",
    "breakfast_users = list(set(breakfast_data['user_id']))"
   ]
  },
  {
   "cell_type": "markdown",
   "metadata": {},
   "source": [
    "## Calculating the final target audience\n",
    "\n",
    "#### We can see how the target is audience is reduced step-by-step resulting into a set of 7298 users"
   ]
  },
  {
   "cell_type": "code",
   "execution_count": 48,
   "metadata": {
    "scrolled": false
   },
   "outputs": [
    {
     "name": "stdout",
     "output_type": "stream",
     "text": [
      "162954\n",
      "19188\n",
      "10505\n",
      "9757\n",
      "7298\n"
     ]
    }
   ],
   "source": [
    "all_users = len(list(set(data['user_id'])))\n",
    "print(all_users)\n",
    "\n",
    "list_a = list(set(user_segmentation_freq1) & set(user_segmentation_freq2))\n",
    "print(len(list_a))\n",
    "\n",
    "list_b = list(set(list_a) & set(user_segmentation_basket))\n",
    "print(len(list_b))\n",
    "\n",
    "list_c = list(set(list_b) & set(breakfast_users))\n",
    "print(len(list_c))\n",
    "\n",
    "final_list = list(set(list_c) & set(less_frequent_breakfast_users))\n",
    "print(len(final_list))"
   ]
  },
  {
   "cell_type": "code",
   "execution_count": null,
   "metadata": {},
   "outputs": [],
   "source": []
  }
 ],
 "metadata": {
  "kernelspec": {
   "display_name": "Python 3",
   "language": "python",
   "name": "python3"
  },
  "language_info": {
   "codemirror_mode": {
    "name": "ipython",
    "version": 3
   },
   "file_extension": ".py",
   "mimetype": "text/x-python",
   "name": "python",
   "nbconvert_exporter": "python",
   "pygments_lexer": "ipython3",
   "version": "3.8.8"
  }
 },
 "nbformat": 4,
 "nbformat_minor": 1
}
